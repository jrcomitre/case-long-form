{
 "cells": [
  {
   "cell_type": "code",
   "execution_count": 101,
   "id": "be193232",
   "metadata": {},
   "outputs": [],
   "source": [
    "import pandas as pd\n",
    "import os"
   ]
  },
  {
   "cell_type": "code",
   "execution_count": 120,
   "id": "78ae0b88",
   "metadata": {},
   "outputs": [],
   "source": [
    "# Caminho do arquivo Base_Checkpoint.xlsx \n",
    "# arquivo_checkpoint = (r'C:\\Users\\user\\Desktop\\Case LongForm\\Base_Checkpoint.xlsx')\n",
    "\n",
    "arquivo_checkpoint = r'C:\\Users\\user\\Desktop\\Case LongForm\\Base_Checkpoint.xlsx'"
   ]
  },
  {
   "cell_type": "code",
   "execution_count": 103,
   "id": "83b39f40",
   "metadata": {},
   "outputs": [],
   "source": [
    "#Caminho da pasta onde estão os arquivos do Sistema 1\n",
    "pasta_sistema1 = (r'C:\\Users\\user\\Desktop\\Case LongForm\\Sistema1')"
   ]
  },
  {
   "cell_type": "code",
   "execution_count": 104,
   "id": "bff4a33b",
   "metadata": {},
   "outputs": [
    {
     "name": "stdout",
     "output_type": "stream",
     "text": [
      "Arquivos na pasta: ['Base_Sistema1_19-06-2025.xlsx', 'Base_Sistema1_20-06-2025.xlsx']\n"
     ]
    }
   ],
   "source": [
    "print(\"Arquivos na pasta:\", os.listdir(pasta_sistema1))"
   ]
  },
  {
   "cell_type": "code",
   "execution_count": 105,
   "id": "16e45fe3",
   "metadata": {},
   "outputs": [
    {
     "name": "stdout",
     "output_type": "stream",
     "text": [
      "Verificação dos arquivos concluida\n"
     ]
    }
   ],
   "source": [
    "# Carregando os dados do Sistema 1 (Localizando todos os arquivos do Sistema 1 na pasta e unificando tudo em uma tabela)\n",
    "\n",
    "lista_tabelas_sistema1 = []\n",
    "for nome_arquivo in os.listdir(pasta_sistema1):\n",
    "    # Verificando se o arquivo começa com 'Base_Sistema1' e termina com '.xlsx'\n",
    "    if nome_arquivo.startswith(\"Base_Sistema1\") and nome_arquivo.endswith(\".xlsx\"):\n",
    "        caminho_completo_arquivo = os.path.join(pasta_sistema1, nome_arquivo)\n",
    "        # Lê o arquivo Excel e guarda na lista\n",
    "        tabela_temp = pd.read_excel(caminho_completo_arquivo)\n",
    "        lista_tabelas_sistema1.append(tabela_temp)\n",
    "print('Verificação dos arquivos concluida')\n",
    "\n",
    "# Junta todas as tabelas do Sistema 1 em uma só\n",
    "if lista_tabelas_sistema1:\n",
    "    tabela_sistema1_completa = pd.concat(lista_tabelas_sistema1, ignore_index=True)\n",
    "    # Renomeia a coluna 'WB' para 'Numero_WB_Sistema1' para não confundir depois\n",
    "    tabela_sistema1_completa.rename(columns={\"WB\": \"Numero_WB_Sistema1\"}, inplace=True)\n",
    "else:\n",
    "    tabela_sistema1_completa = pd.DataFrame()\n",
    "    print(\"A lista 'lista_tabelas_sistema1' está vazia.\")"
   ]
  },
  {
   "cell_type": "code",
   "execution_count": 106,
   "id": "d68be508",
   "metadata": {},
   "outputs": [
    {
     "name": "stdout",
     "output_type": "stream",
     "text": [
      "     Numero_WB_Sistema1 Long Form Concluído Long Form não concluído devido  \\\n",
      "0            9043848633                 Não                    Not Started   \n",
      "1            9084986689                 Não                    Not Started   \n",
      "2            9949996634                 Sim                            NaN   \n",
      "3            9942099636                 Não                    Not Started   \n",
      "4            9936433904                 Sim                            NaN   \n",
      "..                  ...                 ...                            ...   \n",
      "495          9247773293                 Não                    Not Started   \n",
      "496          9339090020                 Não                    Not Started   \n",
      "497          9339969642                 Não                    Not Started   \n",
      "498          9339292282                 Não                    Not Started   \n",
      "499          9632989623                 Não                    Not Started   \n",
      "\n",
      "        Data PU País origem IATA origem IATA destino          .1     .2  \\\n",
      "0    19/06/2025      Mexico         TLC          CPQ  NaN    NaN    NaN   \n",
      "1    19/06/2025       China         SHA          GRU  NaN    NaN    NaN   \n",
      "2    19/06/2025       China         WUH          BSB  NaN    NaN    NaN   \n",
      "3    19/06/2025       Índia         AMD          CPQ  NaN    NaN    NaN   \n",
      "4    19/06/2025       China         CAN          CWB  NaN    NaN    NaN   \n",
      "..          ...         ...         ...          ...  ...    ...    ...   \n",
      "495  20/06/2025     Turquia         ADA          CPQ  NaN    NaN    NaN   \n",
      "496  20/06/2025       China         HGH          JOI  NaN    NaN    NaN   \n",
      "497  20/06/2025   Hong Kong         HKG          POA  NaN    NaN    NaN   \n",
      "498  20/06/2025       China         HGH          CPQ  NaN    NaN    NaN   \n",
      "499  20/06/2025       China         HGH          GRU  NaN    NaN    NaN   \n",
      "\n",
      "     Unnamed: 7        \n",
      "0           NaN   NaN  \n",
      "1           NaN   NaN  \n",
      "2           NaN   NaN  \n",
      "3           NaN   NaN  \n",
      "4           NaN   NaN  \n",
      "..          ...   ...  \n",
      "495         NaN   NaN  \n",
      "496         NaN   NaN  \n",
      "497         NaN   NaN  \n",
      "498         NaN   NaN  \n",
      "499         NaN   NaN  \n",
      "\n",
      "[500 rows x 12 columns]\n"
     ]
    }
   ],
   "source": [
    "# Visualizar tabela\n",
    "print(tabela_sistema1_completa)"
   ]
  },
  {
   "cell_type": "code",
   "execution_count": 121,
   "id": "b4846129",
   "metadata": {},
   "outputs": [],
   "source": [
    "# Carregando os dados do Checkpoint ('Event' e 'Shipment')\n",
    "\n",
    "tabela_eventos_checkpoint = pd.read_excel(arquivo_checkpoint, sheet_name=\"Event\")\n",
    "tabela_remessas_checkpoint = pd.read_excel(arquivo_checkpoint, sheet_name=\"Shipment\")"
   ]
  },
  {
   "cell_type": "code",
   "execution_count": 108,
   "id": "ddbf6d72",
   "metadata": {},
   "outputs": [
    {
     "name": "stdout",
     "output_type": "stream",
     "text": [
      "Dados do Checkpoint carregados.\n"
     ]
    }
   ],
   "source": [
    "# Renomeando algumas colunas para facilitar\n",
    "tabela_eventos_checkpoint.rename(columns={\n",
    "    \"HWB No\": \"Numero_WB_Evento\",\n",
    "    \"Event Cd\": \"Codigo_do_Evento\",\n",
    "    \"Event Dtm\": \"Data_e_Hora_do_Evento\"\n",
    "}, inplace=True)\n",
    "tabela_remessas_checkpoint.rename(columns={\n",
    "    \"HWB No\": \"Numero_WB_Remessa\",\n",
    "    \"Last Event Fac\": \"Ultimo_Local_Evento\",\n",
    "    \"Last Event Stn\": \"Ultima_Estacao_Evento\"\n",
    "}, inplace=True)\n",
    "\n",
    "print('Dados do Checkpoint carregados.')"
   ]
  },
  {
   "cell_type": "code",
   "execution_count": 109,
   "id": "b47cf688",
   "metadata": {},
   "outputs": [
    {
     "name": "stdout",
     "output_type": "stream",
     "text": [
      "[             WB Long Form Concluído Long Form não concluído devido  \\\n",
      "0    9043848633                 Não                    Not Started   \n",
      "1    9084986689                 Não                    Not Started   \n",
      "2    9949996634                 Sim                            NaN   \n",
      "3    9942099636                 Não                    Not Started   \n",
      "4    9936433904                 Sim                            NaN   \n",
      "..          ...                 ...                            ...   \n",
      "333  9632906832                 Não                    Not Started   \n",
      "334  9632997939                 Não                    Not Started   \n",
      "335  9632929093                 Não                    Not Started   \n",
      "336  9632960032                 Não                    Not Started   \n",
      "337  9689904309                 Não                    Not Started   \n",
      "\n",
      "        Data PU País origem IATA origem IATA destino          .1     .2  \n",
      "0    19/06/2025      Mexico         TLC          CPQ  NaN    NaN    NaN  \n",
      "1    19/06/2025       China         SHA          GRU  NaN    NaN    NaN  \n",
      "2    19/06/2025       China         WUH          BSB  NaN    NaN    NaN  \n",
      "3    19/06/2025       Índia         AMD          CPQ  NaN    NaN    NaN  \n",
      "4    19/06/2025       China         CAN          CWB  NaN    NaN    NaN  \n",
      "..          ...         ...         ...          ...  ...    ...    ...  \n",
      "333  19/06/2025      Itália         MXP          MAO  NaN    NaN    NaN  \n",
      "334  19/06/2025      Itália         MIL          GRU  NaN    NaN    NaN  \n",
      "335  19/06/2025      França         LIL          CPQ  NaN    NaN    NaN  \n",
      "336  19/06/2025       Índia         BLR          GRU  NaN    NaN    NaN  \n",
      "337  19/06/2025       China         CAN          SSZ  NaN    NaN    NaN  \n",
      "\n",
      "[338 rows x 10 columns],              WB Long Form Concluído Long Form não concluído devido  \\\n",
      "0    9993337023                 Não                    Not Started   \n",
      "1    9972343023                 Não                    Not Started   \n",
      "2    9236903682                 Não                    Not Started   \n",
      "3    9296233900                 Não                    Not Started   \n",
      "4    9372989030                 Não                    Not Started   \n",
      "..          ...                 ...                            ...   \n",
      "157  9247773293                 Não                    Not Started   \n",
      "158  9339090020                 Não                    Not Started   \n",
      "159  9339969642                 Não                    Not Started   \n",
      "160  9339292282                 Não                    Not Started   \n",
      "161  9632989623                 Não                    Not Started   \n",
      "\n",
      "        Data PU        País origem IATA origem IATA destino  Unnamed: 7       \\\n",
      "0    20/06/2025              China         SZX          GRU         NaN  NaN   \n",
      "1    20/06/2025              Japão         OSA          CPQ         NaN  NaN   \n",
      "2    20/06/2025  TCHECA, REPUBLICA         BRQ          GRU         NaN  NaN   \n",
      "3    20/06/2025              China         HGH          SJK         NaN  NaN   \n",
      "4    20/06/2025              Japão         NRT          GRU         NaN  NaN   \n",
      "..          ...                ...         ...          ...         ...  ...   \n",
      "157  20/06/2025            Turquia         ADA          CPQ         NaN  NaN   \n",
      "158  20/06/2025              China         HGH          JOI         NaN  NaN   \n",
      "159  20/06/2025          Hong Kong         HKG          POA         NaN  NaN   \n",
      "160  20/06/2025              China         HGH          CPQ         NaN  NaN   \n",
      "161  20/06/2025              China         HGH          GRU         NaN  NaN   \n",
      "\n",
      "           \n",
      "0     NaN  \n",
      "1     NaN  \n",
      "2     NaN  \n",
      "3     NaN  \n",
      "4     NaN  \n",
      "..    ...  \n",
      "157   NaN  \n",
      "158   NaN  \n",
      "159   NaN  \n",
      "160   NaN  \n",
      "161   NaN  \n",
      "\n",
      "[162 rows x 10 columns]]\n"
     ]
    }
   ],
   "source": [
    "print(lista_tabelas_sistema1)  # verifique se não está vazia"
   ]
  },
  {
   "cell_type": "code",
   "execution_count": 110,
   "id": "af040737",
   "metadata": {},
   "outputs": [
    {
     "name": "stdout",
     "output_type": "stream",
     "text": [
      "Index(['Numero_WB_Sistema1', 'Long Form Concluído',\n",
      "       'Long Form não concluído devido', 'Data PU', 'País origem',\n",
      "       'IATA origem', 'IATA destino', '   ', '   .1', '   .2', 'Unnamed: 7',\n",
      "       '    '],\n",
      "      dtype='object')\n",
      "Index(['Numero_WB_Remessa', 'Orig Ctry', 'Orig Stn', 'Orig Fac', 'Dest Ctry',\n",
      "       'Dest Stn', 'Dest Fac', 'Prod', 'Piece No', 'Weight', 'Vol Weight',\n",
      "       'Payer Acct', 'Value', 'Currency', 'Est. USD Value', 'Clock Start',\n",
      "       'EDD', 'Ultima_Estacao_Evento', 'Ultimo_Local_Evento', 'Last Event Cd',\n",
      "       'Last Event Dtm', 'Last Event Dtm GMT', '  ', '  .1', '   ', '   .1'],\n",
      "      dtype='object')\n"
     ]
    }
   ],
   "source": [
    "print(tabela_sistema1_completa.columns)\n",
    "print(tabela_remessas_checkpoint.columns)"
   ]
  },
  {
   "cell_type": "code",
   "execution_count": 111,
   "id": "01a64c8e",
   "metadata": {},
   "outputs": [
    {
     "name": "stdout",
     "output_type": "stream",
     "text": [
      "Tabelas combinadas com sucesso.\n"
     ]
    }
   ],
   "source": [
    "# Juntando todas as informações (Colocando todas as informações juntas em uma tabela.)\n",
    "\n",
    "# Unindo a tabela do Sistema 1 com as informações de remessa do Checkpoint\n",
    "tabela_combinada = pd.merge(tabela_sistema1_completa, tabela_remessas_checkpoint,\n",
    "                            left_on=\"Numero_WB_Sistema1\", right_on=\"Numero_WB_Remessa\", how=\"left\")\n",
    "# Unindo o que sobrou com as informações de eventos do Checkpoint\n",
    "tabela_combinada = pd.merge(tabela_combinada, tabela_eventos_checkpoint,\n",
    "                            left_on=\"Numero_WB_Sistema1\", right_on=\"Numero_WB_Evento\", how=\"left\")\n",
    "\n",
    "# Renomeandomais algumas colunas para ficar mais claro\n",
    "tabela_combinada.rename(columns={\n",
    "    \"Long Form Concluído\": \"Status_Longform_Concluido\",\n",
    "    \"Long Form não concluído devido\": \"Motivo_Longform_Nao_Concluido\"\n",
    "}, inplace=True)\n",
    "\n",
    "print('Tabelas combinadas com sucesso.')\n"
   ]
  },
  {
   "cell_type": "code",
   "execution_count": 112,
   "id": "c92a1eac",
   "metadata": {},
   "outputs": [
    {
     "name": "stdout",
     "output_type": "stream",
     "text": [
      "Index(['Numero_WB_Sistema1', 'Status_Longform_Concluido',\n",
      "       'Motivo_Longform_Nao_Concluido', 'Data PU', 'País origem',\n",
      "       'IATA origem', 'IATA destino', '   _x', '   .1_x', '   .2',\n",
      "       'Unnamed: 7', '    _x', 'Numero_WB_Remessa', 'Orig Ctry', 'Orig Stn',\n",
      "       'Orig Fac', 'Dest Ctry', 'Dest Stn', 'Dest Fac', 'Prod', 'Piece No',\n",
      "       'Weight', 'Vol Weight', 'Payer Acct', 'Value', 'Currency',\n",
      "       'Est. USD Value', 'Clock Start', 'EDD', 'Ultima_Estacao_Evento',\n",
      "       'Ultimo_Local_Evento', 'Last Event Cd', 'Last Event Dtm',\n",
      "       'Last Event Dtm GMT', '  _x', '  .1', '   _y', '   .1_y',\n",
      "       'Numero_WB_Evento', 'Event Stn', 'Event Fac', 'Codigo_do_Evento',\n",
      "       'Data_e_Hora_do_Evento', 'Event Dtm GMT', '    _y', '  _y', '   ', ' ',\n",
      "       ' .1', ' .2', ' .3', ' .4'],\n",
      "      dtype='object')\n"
     ]
    }
   ],
   "source": [
    "print(tabela_combinada.columns)\n"
   ]
  },
  {
   "cell_type": "code",
   "execution_count": 113,
   "id": "32706721",
   "metadata": {},
   "outputs": [
    {
     "name": "stdout",
     "output_type": "stream",
     "text": [
      "Index(['Numero_WB_Sistema1', 'Status_Longform_Concluido',\n",
      "       'Motivo_Longform_Nao_Concluido', 'Codigo_do_Evento',\n",
      "       'Data_e_Hora_do_Evento', 'Ultimo_Local_Evento', 'Ultima_Estacao_Evento',\n",
      "       'Numero_WB_Remessa'],\n",
      "      dtype='object')\n",
      "None\n"
     ]
    }
   ],
   "source": [
    "# Limpeza e Seleção de Colunas\n",
    "\n",
    "# Removendo colunas que estão completamente vazias (só têm valores nulos)\n",
    "\n",
    "tabela_combinada.dropna(axis=1, how='all', inplace=True)\n",
    "\n",
    "# Removendo colunas sem nome ou com nomes estranhos\n",
    "\n",
    "colunas_para_remover_por_nome = [col for col in tabela_combinada.columns if str(col).startswith(\"Unnamed:\") or str(col).startswith(\" _\") or str(col).startswith(\" .\")]\n",
    "tabela_combinada.drop(columns=colunas_para_remover_por_nome, inplace=True, errors='ignore')\n",
    "\n",
    "# Selecionar apenas as colunas que serão utilizadas na análise\n",
    "\n",
    "colunas_importantes = [\n",
    "    \"Numero_WB_Sistema1\",\n",
    "    \"Status_Longform_Concluido\",\n",
    "    \"Motivo_Longform_Nao_Concluido\",\n",
    "    \"Codigo_do_Evento\",\n",
    "    \"Data_e_Hora_do_Evento\",\n",
    "    \"Ultimo_Local_Evento\",\n",
    "    \"Ultima_Estacao_Evento\",\n",
    "    \"Numero_WB_Remessa\" # Manter para verificar WBs sem correspondência\n",
    "]\n",
    "\n",
    "# Garantir que todas as colunas importantes existem antes de selecionar\n",
    "\n",
    "existing_columns = [col for col in colunas_importantes if col in tabela_combinada.columns]\n",
    "tabela_combinada = tabela_combinada[existing_columns]\n",
    "\n",
    "print(print(tabela_combinada.columns))"
   ]
  },
  {
   "cell_type": "code",
   "execution_count": 114,
   "id": "752405f7",
   "metadata": {},
   "outputs": [],
   "source": [
    "# Aplicando as Regras de Negócio (filtrar o que interessa)\n",
    "\n",
    "# REGRA A: A remessa não pode estar concluída e o motivo deve ser 'Not Started' (Isso significa que ela ainda pode ser processada para Longform.)\n",
    "\n",
    "tabela_elegivel = tabela_combinada[\n",
    "    (tabela_combinada[\"Status_Longform_Concluido\"] == \"Não\") &\n",
    "    (tabela_combinada[\"Motivo_Longform_Nao_Concluido\"] == \"Not Started\")\n",
    "].copy()"
   ]
  },
  {
   "cell_type": "code",
   "execution_count": 115,
   "id": "4fb86174",
   "metadata": {},
   "outputs": [],
   "source": [
    "# REGRA B: A remessa precisa ter os eventos 'PU' (Pickup) e 'RW' (Received at Warehouse) / (Verificando quais WBs têm esses eventos.)\n",
    "\n",
    "wbs_com_pu = tabela_elegivel[tabela_elegivel[\"Codigo_do_Evento\"] == \"PU\"][\"Numero_WB_Sistema1\"].unique()\n",
    "wbs_com_rw = tabela_elegivel[tabela_elegivel[\"Codigo_do_Evento\"] == \"RW\"][\"Numero_WB_Sistema1\"].unique()\n",
    "\n",
    "# Separando somente as WBs que têm AMBOS os eventos\n",
    "wbs_com_ambos_pu_rw = list(set(wbs_com_pu) & set(wbs_com_rw))\n",
    "tabela_elegivel = tabela_elegivel[tabela_elegivel[\"Numero_WB_Sistema1\"].isin(wbs_com_ambos_pu_rw)]"
   ]
  },
  {
   "cell_type": "code",
   "execution_count": 116,
   "id": "9511302e",
   "metadata": {},
   "outputs": [],
   "source": [
    "# REGRA C: Excluir remessas que já foram finalizadas (Se o último evento for 'CS', 'RT' ou 'OK', a remessa já terminou e não precisa de Longform.)\n",
    "\n",
    "# Garantimos que a coluna de data é realmente uma data\n",
    "tabela_elegivel[\"Data_e_Hora_do_Evento\"] = pd.to_datetime(tabela_elegivel[\"Data_e_Hora_do_Evento\"])\n",
    "\n",
    "# Encontrando o evento mais recente para cada WB\n",
    "ultimo_evento_por_wb = tabela_elegivel.sort_values(\"Data_e_Hora_do_Evento\", ascending=False).drop_duplicates(\"Numero_WB_Sistema1\")\n",
    "\n",
    "# Códigos de evento que indicam que a remessa está finalizada\n",
    "codigos_finalizados = [\"CS\", \"RT\", \"OK\"]\n",
    "\n",
    "# Encontrando as WBs que têm um desses códigos como último evento\n",
    "wbs_para_remover = ultimo_evento_por_wb[\n",
    "    ultimo_evento_por_wb[\"Codigo_do_Evento\"].isin(codigos_finalizados)\n",
    "][\"Numero_WB_Sistema1\"]\n",
    "\n",
    "# Removendo essas WBs da lista de elegíveis\n",
    "tabela_final_elegivel = tabela_elegivel[~tabela_elegivel[\"Numero_WB_Sistema1\"].isin(wbs_para_remover)]"
   ]
  },
  {
   "cell_type": "code",
   "execution_count": 117,
   "id": "63b5e0da",
   "metadata": {},
   "outputs": [],
   "source": [
    "# Identificar Gateways\n",
    "\n",
    "# Garantindo que tabela_final_elegivel seja uma cópia para evitar warnings\n",
    "tabela_final_elegivel = tabela_final_elegivel.copy()\n",
    "\n",
    "# Adicionando informações sobre o Gateway para análise.\n",
    "\n",
    "tabela_final_elegivel[\"Gateway_Identificado\"] = tabela_final_elegivel[\"Ultimo_Local_Evento\"].apply(\n",
    "    lambda x: x if pd.notna(x) and \"GTW\" in str(x) else None\n",
    ")\n",
    "tabela_final_elegivel[\"Estacao_Gateway\"] = tabela_final_elegivel[\"Ultima_Estacao_Evento\"]"
   ]
  },
  {
   "cell_type": "code",
   "execution_count": 118,
   "id": "e31c1be3",
   "metadata": {},
   "outputs": [
    {
     "name": "stdout",
     "output_type": "stream",
     "text": [
      "   Arquivo 'filtered_data.csv' criado.\n",
      "   Arquivo 'wbs_sem_correspondencia.csv' criado.\n"
     ]
    }
   ],
   "source": [
    "# Salvando os Resultados Finais\n",
    "\n",
    "# Salvando a tabela com as remessas elegíveis em um arquivo CSV.\n",
    "\n",
    "tabela_final_elegivel.to_csv(\"filtered_data.csv\", index=False)\n",
    "print(\"   Arquivo 'filtered_data.csv' criado.\")\n",
    "\n",
    "# Identificando as WBs do Sistema 1 que não encontraram correspondência\n",
    "\n",
    "# Se a coluna 'Numero_WB_Remessa' estiver vazia, significa que não achou correspondência\n",
    "\n",
    "wbs_sem_correspondencia = tabela_combinada[\n",
    "    tabela_combinada[\"Numero_WB_Remessa\"].isnull()\n",
    "][\"Numero_WB_Sistema1\"].unique()\n",
    "\n",
    "# Salvando essa lista em outro arquivo CSV\n",
    "tabela_wbs_sem_correspondencia = pd.DataFrame(wbs_sem_correspondencia, columns=[\"WB_Para_Extracao_Manual\"])\n",
    "tabela_wbs_sem_correspondencia.to_csv(\"wbs_sem_correspondencia.csv\", index=False)\n",
    "print(\"   Arquivo 'wbs_sem_correspondencia.csv' criado.\")"
   ]
  },
  {
   "cell_type": "code",
   "execution_count": 119,
   "id": "95dc5b19",
   "metadata": {},
   "outputs": [
    {
     "name": "stdout",
     "output_type": "stream",
     "text": [
      "\n",
      "Total de WBs elegíveis para Longform: 388\n",
      "Contagem de WBs por Gateway Prioritário:\n",
      "  GTW MIA: 24 WBs\n",
      "  GTW MAD: 18 WBs\n",
      "  GTW CVG: 4 WBs\n",
      "  GTW LEJ: 1 WBs\n",
      "  GTW BCN: 43 WBs\n",
      "\n",
      "Número de WBs para extração manual: 0\n"
     ]
    }
   ],
   "source": [
    "# Gerando um Resumo\n",
    "\n",
    "# Total de WBs que podem ter o Longform\n",
    "total_wbs_elegiveis = tabela_final_elegivel[\"Numero_WB_Sistema1\"].nunique()\n",
    "print(f\"\\nTotal de WBs elegíveis para Longform: {total_wbs_elegiveis}\")\n",
    "\n",
    "# Contagem por Gateway prioritário\n",
    "gateways_prioritarios = [\"MIA\", \"MAD\", \"CVG\", \"LEJ\", \"BCN\"]\n",
    "print(\"Contagem de WBs por Gateway Prioritário:\")\n",
    "for gtw in gateways_prioritarios:\n",
    "    contagem = tabela_final_elegivel[\n",
    "        tabela_final_elegivel[\"Estacao_Gateway\"] == gtw\n",
    "    ][\"Numero_WB_Sistema1\"].nunique()\n",
    "    print(f\"  GTW {gtw}: {contagem} WBs\")\n",
    "\n",
    "# Quantas WBs precisam de extração manual\n",
    "num_wbs_manual = tabela_wbs_sem_correspondencia.shape[0]\n",
    "print(f\"\\nNúmero de WBs para extração manual: {num_wbs_manual}\")\n",
    "if num_wbs_manual > 0:\n",
    "    print(\"Lista de WBs para extração manual (ver arquivo 'wbs_sem_correspondencia.csv'):\")\n",
    "    print(tabela_wbs_sem_correspondencia)"
   ]
  }
 ],
 "metadata": {
  "kernelspec": {
   "display_name": "base",
   "language": "python",
   "name": "python3"
  },
  "language_info": {
   "codemirror_mode": {
    "name": "ipython",
    "version": 3
   },
   "file_extension": ".py",
   "mimetype": "text/x-python",
   "name": "python",
   "nbconvert_exporter": "python",
   "pygments_lexer": "ipython3",
   "version": "3.12.7"
  }
 },
 "nbformat": 4,
 "nbformat_minor": 5
}
